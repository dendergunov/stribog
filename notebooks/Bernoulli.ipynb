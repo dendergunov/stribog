{
 "cells": [
  {
   "cell_type": "code",
   "execution_count": 36,
   "metadata": {},
   "outputs": [],
   "source": [
    "import numpy as np\n",
    "import random as rnd\n",
    "# prob_of_one - вероятность единицы (целое число от 1 (вероятность 1/10) до 10 (вероятность 10/10))\n",
    "# size - желаемый размер массива в байтах\n",
    "def bernoulli(prob_of_one,size):\n",
    "    array = np.empty(int(size),dtype=np.uint8)\n",
    "    for i in range(array.size):\n",
    "        a = 0\n",
    "        for j in range(8):\n",
    "            if rnd.randint(1,10) <= prob_of_one:\n",
    "                a += 2**(7-j)\n",
    "        array[i] = a\n",
    "    return array"
   ]
  },
  {
   "cell_type": "code",
   "execution_count": 37,
   "metadata": {},
   "outputs": [],
   "source": [
    "arr = bernoulli(4,1024**2)\n",
    "file = open('bern46','w')\n",
    "arr.tofile(file)\n",
    "file.close()"
   ]
  }
 ],
 "metadata": {
  "kernelspec": {
   "display_name": "Python 3",
   "language": "python",
   "name": "python3"
  },
  "language_info": {
   "codemirror_mode": {
    "name": "ipython",
    "version": 3
   },
   "file_extension": ".py",
   "mimetype": "text/x-python",
   "name": "python",
   "nbconvert_exporter": "python",
   "pygments_lexer": "ipython3",
   "version": "3.8.3"
  }
 },
 "nbformat": 4,
 "nbformat_minor": 4
}
