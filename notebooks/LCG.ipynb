{
 "cells": [
  {
   "cell_type": "code",
   "execution_count": 50,
   "metadata": {},
   "outputs": [],
   "source": [
    "import numpy as np\n",
    "\n",
    "next_ = 1\n",
    "\n",
    "def srand(seed):\n",
    "    global next_\n",
    "    next_ = seed\n",
    "    return\n",
    "\n",
    "def rand():\n",
    "    global next_\n",
    "    next_ = next_ * 1103515245 + 12345\n",
    "    return (next_ >> 16) % 32768"
   ]
  },
  {
   "cell_type": "code",
   "execution_count": 90,
   "metadata": {},
   "outputs": [],
   "source": [
    "srand(123)"
   ]
  },
  {
   "cell_type": "code",
   "execution_count": 91,
   "metadata": {},
   "outputs": [
    {
     "name": "stdout",
     "output_type": "stream",
     "text": [
      "[ 6727 22524 25453 ... 11669  7331 10232]\n"
     ]
    }
   ],
   "source": [
    "array = np.empty(1024*512,dtype='int16')\n",
    "\n",
    "for i in range(array.size):\n",
    "    array[i] = rand()\n",
    "print(array)"
   ]
  },
  {
   "cell_type": "code",
   "execution_count": 92,
   "metadata": {},
   "outputs": [],
   "source": [
    "lcg = open(\"lcg\",'w')\n",
    "array.tofile(lcg)\n",
    "lcg.close()"
   ]
  }
 ],
 "metadata": {
  "kernelspec": {
   "display_name": "Python 3",
   "language": "python",
   "name": "python3"
  },
  "language_info": {
   "codemirror_mode": {
    "name": "ipython",
    "version": 3
   },
   "file_extension": ".py",
   "mimetype": "text/x-python",
   "name": "python",
   "nbconvert_exporter": "python",
   "pygments_lexer": "ipython3",
   "version": "3.8.3"
  }
 },
 "nbformat": 4,
 "nbformat_minor": 4
}
